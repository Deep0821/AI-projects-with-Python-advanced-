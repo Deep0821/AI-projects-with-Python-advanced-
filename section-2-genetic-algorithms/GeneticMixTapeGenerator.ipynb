{
 "cells": [
  {
   "cell_type": "markdown",
   "metadata": {},
   "source": [
    "# Load prepared track metadata and features"
   ]
  },
  {
   "cell_type": "code",
   "execution_count": 1,
   "metadata": {
    "collapsed": true
   },
   "outputs": [],
   "source": [
    "REQUIRED_GENRE = None #'Electronic'\n",
    "\n",
    "import pickle\n",
    "with open('tracks_metadata.pkl', 'rb') as f:\n",
    "    tracks_metadata = pickle.load(f)\n",
    "with open('track_features.pkl', 'rb') as f:\n",
    "    track_features = pickle.load(f)\n",
    "all_tracks = list(tracks_metadata.keys())\n",
    "\n",
    "def computeTrackDuration(track):\n",
    "    duration = tracks_metadata[track]['track_duration']\n",
    "    if len(duration.split(':')) == 2:\n",
    "        (mins, secs) = duration.split(':')\n",
    "        hours = 0\n",
    "    elif len(duration.split(':')) == 3:\n",
    "        (hours, mins, secs) = duration.split(':')\n",
    "    else:\n",
    "        secs = duration\n",
    "        mins = 0\n",
    "        hours = 0\n",
    "    return (float(hours) * 60.0 + float(mins) + float(secs)/60.0)\n",
    "\n",
    "# remove tracks that have missing keys\n",
    "removed_tracks = []\n",
    "for track in all_tracks:\n",
    "    if 'genres' not in track_features[track] or \\\n",
    "      'bpm' not in track_features[track] or \\\n",
    "      'beats_loudness' not in track_features[track] or \\\n",
    "      'loudness' not in track_features[track] or \\\n",
    "      'dissonance' not in track_features[track] or \\\n",
    "      'genres' not in track_features[track] or \\\n",
    "      'tonal_key' not in track_features[track] or \\\n",
    "      'interest' not in track_features[track] or \\\n",
    "      'listens' not in track_features[track] or \\\n",
    "      'favorites' not in track_features[track]:\n",
    "        del tracks_metadata[track]\n",
    "        del track_features[track]\n",
    "        removed_tracks.append(track)\n",
    "        continue\n",
    "    duration = computeTrackDuration(track)\n",
    "    if duration < 3 or duration > 10:\n",
    "        del tracks_metadata[track]\n",
    "        del track_features[track]\n",
    "        removed_tracks.append(track)\n",
    "        continue\n",
    "    if REQUIRED_GENRE is not None:\n",
    "        if REQUIRED_GENRE not in track_features[track]['genres']:\n",
    "            missing_required_genre = True\n",
    "            del tracks_metadata[track]\n",
    "            del track_features[track]\n",
    "            removed_tracks.append(track)\n",
    "all_tracks = list(set(all_tracks)-set(removed_tracks))"
   ]
  },
  {
   "cell_type": "code",
   "execution_count": 2,
   "metadata": {},
   "outputs": [
    {
     "data": {
      "text/plain": [
       "62665"
      ]
     },
     "execution_count": 2,
     "metadata": {},
     "output_type": "execute_result"
    }
   ],
   "source": [
    "len(tracks_metadata)"
   ]
  },
  {
   "cell_type": "code",
   "execution_count": 3,
   "metadata": {},
   "outputs": [
    {
     "data": {
      "text/plain": [
       "62665"
      ]
     },
     "execution_count": 3,
     "metadata": {},
     "output_type": "execute_result"
    }
   ],
   "source": [
    "len(track_features)"
   ]
  },
  {
   "cell_type": "code",
   "execution_count": 4,
   "metadata": {},
   "outputs": [
    {
     "data": {
      "text/plain": [
       "{'beats_loudness': 0.035603273659944534,\n",
       " 'bpm': 129.96554565429688,\n",
       " 'dissonance': 0.4711228609085083,\n",
       " 'favorites': 5,\n",
       " 'genres': ['Rock', 'Punk', 'New Wave'],\n",
       " 'interest': 3051,\n",
       " 'listens': 2485,\n",
       " 'loudness': -15.747958183288574,\n",
       " 'loudness_range': 4.922178268432617,\n",
       " 'tonal_key': 'E',\n",
       " 'tonal_scale': ('major',)}"
      ]
     },
     "execution_count": 4,
     "metadata": {},
     "output_type": "execute_result"
    }
   ],
   "source": [
    "track_features[all_tracks[0]]"
   ]
  },
  {
   "cell_type": "code",
   "execution_count": 5,
   "metadata": {},
   "outputs": [
    {
     "data": {
      "text/plain": [
       "{'album_id': '7717',\n",
       " 'album_title': 'Count Your Blessings (1987-1989)',\n",
       " 'album_url': 'http://freemusicarchive.org/music/Transmitters/Count_Your_Blessings/',\n",
       " 'artist_id': '9191',\n",
       " 'artist_name': 'Transmitters',\n",
       " 'artist_url': 'http://freemusicarchive.org/music/Transmitters/',\n",
       " 'artist_website': 'http://www.myspace.com/transmittersz',\n",
       " 'license_image_file': 'http://i.creativecommons.org/l/by-nc-nd/3.0/88x31.png',\n",
       " 'license_image_file_large': 'http://fma-files.s3.amazonaws.com/resources/img/licenses/by-nc-nd.png',\n",
       " 'license_parent_id': '',\n",
       " 'license_title': 'Attribution-NonCommercial-NoDerivatives (aka Music Sharing) 3.0 International',\n",
       " 'license_url': 'http://creativecommons.org/licenses/by-nc-nd/3.0/',\n",
       " 'tags': \"['portugal', 'you are not stealing records', 'classic punk', 'new wave', 'slipper', 'punk', 'transmitters', 'sam dodson']\",\n",
       " 'track_bit_rate': '192000',\n",
       " 'track_comments': '0',\n",
       " 'track_composer': '',\n",
       " 'track_copyright_c': '',\n",
       " 'track_copyright_p': '',\n",
       " 'track_date_created': '11/03/2010 03:57:10 PM',\n",
       " 'track_date_recorded': '',\n",
       " 'track_disc_number': '1',\n",
       " 'track_duration': '05:44',\n",
       " 'track_explicit': '',\n",
       " 'track_explicit_notes': '',\n",
       " 'track_favorites': '5',\n",
       " 'track_file': 'music/Oddio_Overplay/Transmitters/Count_Your_Blessings/Transmitters_-_07_-_Cellos.mp3',\n",
       " 'track_genres': ['Rock', 'Punk', 'New Wave'],\n",
       " 'track_id': '38522',\n",
       " 'track_image_file': 'https://freemusicarchive.org/file/images/albums/Transmitters_-_Count_Your_Blessings_-_20101103161522606.jpg',\n",
       " 'track_information': '',\n",
       " 'track_instrumental': '0',\n",
       " 'track_interest': '3051',\n",
       " 'track_language_code': '',\n",
       " 'track_listens': '2485',\n",
       " 'track_lyricist': '',\n",
       " 'track_number': '7',\n",
       " 'track_publisher': '',\n",
       " 'track_title': 'Cellos',\n",
       " 'track_url': 'http://freemusicarchive.org/music/Transmitters/Count_Your_Blessings/07cellos'}"
      ]
     },
     "execution_count": 5,
     "metadata": {},
     "output_type": "execute_result"
    }
   ],
   "source": [
    "tracks_metadata[all_tracks[0]]"
   ]
  },
  {
   "cell_type": "markdown",
   "metadata": {},
   "source": [
    "# Define genetic algorithm attributes\n",
    "\n",
    "## Population\n",
    "\n",
    "all tracks\n",
    "\n",
    "## Genetic representation\n",
    "\n",
    "## Fitness function\n",
    "\n",
    "neighboring songs\n",
    "\n",
    "plus sum of listens across all songs\n",
    "\n",
    "plus sum of favorites across all songs\n",
    "\n",
    "## Selection function\n",
    "\n",
    "## Crossover function\n",
    "\n",
    "## Mutation function"
   ]
  },
  {
   "cell_type": "code",
   "execution_count": 6,
   "metadata": {
    "collapsed": true
   },
   "outputs": [],
   "source": [
    "import numpy\n",
    "import random\n",
    "import sys\n",
    "from deap import algorithms\n",
    "from deap import base\n",
    "from deap import creator\n",
    "from deap import tools"
   ]
  },
  {
   "cell_type": "markdown",
   "metadata": {},
   "source": [
    "To evaluate an individual (a playlist), we'll compute a variety of scores:\n",
    "\n",
    "- Total playlist time - desired playlist time (e.g., 1hr), absolute value difference\n",
    "  - Minimize\n",
    "- Entropy of genres: sum across every possible genre g: - percent-of-songs-with-genre * log(percent-of-songs-with-genre)\n",
    "  - Minimize, i.e., have a playlist with mostly the same genre\n",
    "- Entropy of tonal keys\n",
    "  - Minimize\n",
    "- Difference in beats-per-minute in successive songs (absolute sum)\n",
    "  - Minimize\n",
    "- Absolute difference of largest beats loudness - smallest beats loudness\n",
    "  - Minimize\n",
    "- Absolute difference of largest loudness - smallest loudness\n",
    "  - Minimize\n",
    "- Absolute difference of largest dissonance - smallest dissonance\n",
    "  - Minimize\n",
    "- Average interest\n",
    "  - Maximize\n",
    "- Average listens\n",
    "  - Maximize\n",
    "- Average favorites\n",
    "  - Maximize"
   ]
  },
  {
   "cell_type": "code",
   "execution_count": 7,
   "metadata": {
    "collapsed": true
   },
   "outputs": [],
   "source": [
    "import math\n",
    "from collections import Counter\n",
    "def calcEntropy(individual, field, multivalue):\n",
    "    valcounts = Counter()\n",
    "    for track in individual:        \n",
    "        if multivalue:\n",
    "            valcounts.update(track_features[track][field])\n",
    "        else:\n",
    "            valcounts.update([track_features[track][field]])\n",
    "    sum = 0.0\n",
    "    for val in valcounts.elements():\n",
    "        p = float(valcounts[val])/float(len(individual))\n",
    "        if p > 0:\n",
    "            sum -= p * math.log(p)\n",
    "    return sum"
   ]
  },
  {
   "cell_type": "code",
   "execution_count": 12,
   "metadata": {},
   "outputs": [
    {
     "data": {
      "text/plain": [
       "6.539035697776039"
      ]
     },
     "execution_count": 12,
     "metadata": {},
     "output_type": "execute_result"
    }
   ],
   "source": [
    "calcEntropy(['fma/fma_full/009/009434.mp3',\n",
    "  'fma/fma_full/127/127248.mp3',\n",
    "  'fma/fma_full/138/138228.mp3',\n",
    "  'fma/fma_full/095/095856.mp3',\n",
    "  'fma/fma_full/016/016174.mp3',\n",
    "  'fma/fma_full/062/062114.mp3',\n",
    "  'fma/fma_full/118/118126.mp3',\n",
    "  'fma/fma_full/137/137059.mp3'], 'genres', True)"
   ]
  },
  {
   "cell_type": "code",
   "execution_count": 13,
   "metadata": {},
   "outputs": [
    {
     "data": {
      "text/plain": [
       "2.252728336819822"
      ]
     },
     "execution_count": 13,
     "metadata": {},
     "output_type": "execute_result"
    }
   ],
   "source": [
    "calcEntropy(['fma/fma_full/009/009434.mp3',\n",
    "  'fma/fma_full/127/127248.mp3',\n",
    "  'fma/fma_full/138/138228.mp3',\n",
    "  'fma/fma_full/095/095856.mp3',\n",
    "  'fma/fma_full/016/016174.mp3',\n",
    "  'fma/fma_full/062/062114.mp3',\n",
    "  'fma/fma_full/118/118126.mp3',\n",
    "  'fma/fma_full/137/137059.mp3'], 'tonal_key', False)"
   ]
  },
  {
   "cell_type": "code",
   "execution_count": 15,
   "metadata": {
    "collapsed": true
   },
   "outputs": [],
   "source": [
    "def evalPlaylist(individual, desired_play_time):\n",
    "    # difference in actual play time and desired play time (in minutes)\n",
    "    play_time = 0.0\n",
    "    for track in individual:\n",
    "        play_time += computeTrackDuration(track)\n",
    "    diff_play_time = abs(play_time - desired_play_time)\n",
    "    \n",
    "    genre_entropy = calcEntropy(individual, 'genres', True)\n",
    "    tonal_keys_entropy = calcEntropy(individual, 'tonal_key', False)\n",
    "    \n",
    "    sum_diff_bpm = 0.0\n",
    "    for i in iter(range(1, len(individual))):\n",
    "        sum_diff_bpm += abs(track_features[individual[i-1]]['bpm'] - \n",
    "                            track_features[individual[i]]['bpm'])\n",
    "\n",
    "    min_beats_loudness = sys.float_info.max\n",
    "    max_beats_loudness = 0.0\n",
    "    min_loudness = sys.float_info.max\n",
    "    max_loudness = 0.0\n",
    "    min_dissonance = sys.float_info.max\n",
    "    max_dissonance = 0.0\n",
    "    for track in individual:\n",
    "        if min_beats_loudness > track_features[track]['beats_loudness']:\n",
    "            min_beats_loudness = track_features[track]['beats_loudness']\n",
    "        if max_beats_loudness < track_features[track]['beats_loudness']:\n",
    "            max_beats_loudness = track_features[track]['beats_loudness']\n",
    "        if min_loudness > track_features[track]['loudness']:\n",
    "            min_loudness = track_features[track]['loudness']\n",
    "        if max_loudness < track_features[track]['loudness']:\n",
    "            max_loudness = track_features[track]['loudness']\n",
    "        if min_dissonance > track_features[track]['dissonance']:\n",
    "            min_dissonance = track_features[track]['dissonance']\n",
    "        if max_dissonance < track_features[track]['dissonance']:\n",
    "            max_dissonance = track_features[track]['dissonance']\n",
    "    diff_beats_loudness = max_beats_loudness - min_beats_loudness\n",
    "    diff_loudness = max_loudness - min_loudness\n",
    "    diff_dissonance = max_dissonance - min_dissonance\n",
    "    \n",
    "    sum_interest = 0\n",
    "    sum_listens = 0\n",
    "    sum_favorites = 0\n",
    "    for track in individual:\n",
    "        sum_interest += track_features[track]['interest']\n",
    "        sum_listens += track_features[track]['listens']\n",
    "        sum_favorites += track_features[track]['favorites']\n",
    "    avg_interest = sum_interest / float(len(individual))\n",
    "    avg_listens = sum_listens / float(len(individual))\n",
    "    avg_favorites = sum_favorites / float(len(individual))\n",
    "        \n",
    "    return (diff_play_time, genre_entropy, tonal_keys_entropy,\n",
    "            sum_diff_bpm, diff_beats_loudness, diff_loudness, diff_dissonance,\n",
    "            avg_interest, avg_listens, avg_favorites)"
   ]
  },
  {
   "cell_type": "code",
   "execution_count": 16,
   "metadata": {},
   "outputs": [
    {
     "data": {
      "text/plain": [
       "(21.133333333333326,\n",
       " 6.539035697776039,\n",
       " 2.252728336819822,\n",
       " 203.3743438720703,\n",
       " 0.07341627962887287,\n",
       " 19.89381217956543,\n",
       " 0.07392513751983643,\n",
       " 2596.5,\n",
       " 1182.0,\n",
       " 1.125)"
      ]
     },
     "execution_count": 16,
     "metadata": {},
     "output_type": "execute_result"
    }
   ],
   "source": [
    "evalPlaylist(['fma/fma_full/009/009434.mp3',\n",
    "  'fma/fma_full/127/127248.mp3',\n",
    "  'fma/fma_full/138/138228.mp3',\n",
    "  'fma/fma_full/095/095856.mp3',\n",
    "  'fma/fma_full/016/016174.mp3',\n",
    "  'fma/fma_full/062/062114.mp3',\n",
    "  'fma/fma_full/118/118126.mp3',\n",
    "  'fma/fma_full/137/137059.mp3'], 60)"
   ]
  },
  {
   "cell_type": "code",
   "execution_count": 17,
   "metadata": {
    "collapsed": true
   },
   "outputs": [],
   "source": [
    "# an invalid playlist has <3 songs or repeated songs\n",
    "def validPlaylist(individual):\n",
    "    return len(individual) >= 3 and len(set(individual)) == len(individual)"
   ]
  },
  {
   "cell_type": "code",
   "execution_count": 18,
   "metadata": {},
   "outputs": [],
   "source": [
    "creator.create(\"FitnessMulti\", base.Fitness,\n",
    "               weights=(-1.0, -1.0, -1.0, -1.0, -1.0, -1.0, -1.0, 1.0, 1.0, 1.0))"
   ]
  },
  {
   "cell_type": "code",
   "execution_count": 19,
   "metadata": {},
   "outputs": [],
   "source": [
    "creator.create(\"Individual\", list, fitness=creator.FitnessMulti)"
   ]
  },
  {
   "cell_type": "code",
   "execution_count": 20,
   "metadata": {},
   "outputs": [
    {
     "data": {
      "text/plain": [
       "(['fma/fma_full/118/118631.mp3',\n",
       "  'fma/fma_full/002/002019.mp3',\n",
       "  'fma/fma_full/084/084358.mp3',\n",
       "  'fma/fma_full/066/066276.mp3',\n",
       "  'fma/fma_full/131/131625.mp3',\n",
       "  'fma/fma_full/028/028063.mp3',\n",
       "  'fma/fma_full/146/146836.mp3',\n",
       "  'fma/fma_full/138/138979.mp3',\n",
       "  'fma/fma_full/117/117102.mp3',\n",
       "  'fma/fma_full/132/132897.mp3'],\n",
       " ['fma/fma_full/040/040080.mp3',\n",
       "  'fma/fma_full/142/142360.mp3',\n",
       "  'fma/fma_full/133/133776.mp3',\n",
       "  'fma/fma_full/106/106223.mp3',\n",
       "  'fma/fma_full/114/114311.mp3',\n",
       "  'fma/fma_full/071/071089.mp3',\n",
       "  'fma/fma_full/038/038479.mp3',\n",
       "  'fma/fma_full/112/112939.mp3',\n",
       "  'fma/fma_full/064/064382.mp3',\n",
       "  'fma/fma_full/114/114066.mp3'])"
      ]
     },
     "execution_count": 20,
     "metadata": {},
     "output_type": "execute_result"
    }
   ],
   "source": [
    "tools.cxOnePoint(['fma/fma_full/118/118631.mp3',\n",
    "                  'fma/fma_full/002/002019.mp3',\n",
    "                  'fma/fma_full/084/084358.mp3',\n",
    "                  'fma/fma_full/066/066276.mp3',\n",
    "                  'fma/fma_full/131/131625.mp3',\n",
    "                  'fma/fma_full/028/028063.mp3',\n",
    "                  'fma/fma_full/146/146836.mp3',\n",
    "                  'fma/fma_full/138/138979.mp3',\n",
    "                  'fma/fma_full/117/117102.mp3',\n",
    "                  'fma/fma_full/114/114066.mp3'],\n",
    "                 ['fma/fma_full/040/040080.mp3',\n",
    "                  'fma/fma_full/142/142360.mp3',\n",
    "                  'fma/fma_full/133/133776.mp3',\n",
    "                  'fma/fma_full/106/106223.mp3',\n",
    "                  'fma/fma_full/114/114311.mp3',\n",
    "                  'fma/fma_full/071/071089.mp3',\n",
    "                  'fma/fma_full/038/038479.mp3',\n",
    "                  'fma/fma_full/112/112939.mp3',\n",
    "                  'fma/fma_full/064/064382.mp3',\n",
    "                  'fma/fma_full/132/132897.mp3'])"
   ]
  },
  {
   "cell_type": "code",
   "execution_count": 21,
   "metadata": {
    "collapsed": true
   },
   "outputs": [],
   "source": [
    "# adds or removes a track not already in the playlist, at a random location\n",
    "def mutatePlaylist(individual):\n",
    "    if random.random() > 0.5:\n",
    "        # add a track\n",
    "        track = random.choice(all_tracks)\n",
    "        if track not in individual:\n",
    "            idx = random.choice(range(0, len(individual)))\n",
    "            individual = individual[:idx] + [track] + individual[idx:]\n",
    "    elif len(individual) > 5:\n",
    "        # delete a track\n",
    "        del individual[random.choice(range(0, len(individual)))]\n",
    "    return creator.Individual(individual),"
   ]
  },
  {
   "cell_type": "code",
   "execution_count": 22,
   "metadata": {},
   "outputs": [
    {
     "data": {
      "text/plain": [
       "(['fma/fma_full/002/002019.mp3',\n",
       "  'fma/fma_full/084/084358.mp3',\n",
       "  'fma/fma_full/066/066276.mp3',\n",
       "  'fma/fma_full/131/131625.mp3',\n",
       "  'fma/fma_full/028/028063.mp3',\n",
       "  'fma/fma_full/146/146836.mp3',\n",
       "  'fma/fma_full/138/138979.mp3',\n",
       "  'fma/fma_full/117/117102.mp3',\n",
       "  'fma/fma_full/114/114066.mp3'],)"
      ]
     },
     "execution_count": 22,
     "metadata": {},
     "output_type": "execute_result"
    }
   ],
   "source": [
    "mutatePlaylist(['fma/fma_full/118/118631.mp3',\n",
    "                'fma/fma_full/002/002019.mp3',\n",
    "                'fma/fma_full/084/084358.mp3',\n",
    "                'fma/fma_full/066/066276.mp3',\n",
    "                'fma/fma_full/131/131625.mp3',\n",
    "                'fma/fma_full/028/028063.mp3',\n",
    "                'fma/fma_full/146/146836.mp3',\n",
    "                'fma/fma_full/138/138979.mp3',\n",
    "                'fma/fma_full/117/117102.mp3',\n",
    "                'fma/fma_full/114/114066.mp3'])"
   ]
  },
  {
   "cell_type": "code",
   "execution_count": 23,
   "metadata": {
    "collapsed": true
   },
   "outputs": [],
   "source": [
    "NUM_SONGS = 20\n",
    "\n",
    "toolbox = base.Toolbox()\n",
    "toolbox.register(\"tracks\", random.sample, all_tracks, NUM_SONGS)\n",
    "toolbox.register(\"individual\", tools.initIterate, creator.Individual, toolbox.tracks)\n",
    "toolbox.register(\"population\", tools.initRepeat, list, toolbox.individual)\n",
    "toolbox.register(\"evaluate\", evalPlaylist, desired_play_time=120)\n",
    "invalidPlaylistScore = (sys.float_info.max, sys.float_info.max, sys.float_info.max,\n",
    "                        sys.float_info.max, sys.float_info.max, sys.float_info.max,\n",
    "                        sys.float_info.max, 0.0, 0.0, 0.0)\n",
    "toolbox.decorate(\"evaluate\", tools.DeltaPenalty(validPlaylist, invalidPlaylistScore))\n",
    "toolbox.register(\"mate\", tools.cxOnePoint)\n",
    "toolbox.register(\"mutate\", mutatePlaylist)\n",
    "toolbox.register(\"select\", tools.selNSGA2)"
   ]
  },
  {
   "cell_type": "code",
   "execution_count": 24,
   "metadata": {},
   "outputs": [
    {
     "data": {
      "text/plain": [
       "[['fma/fma_full/001/001884.mp3',\n",
       "  'fma/fma_full/070/070087.mp3',\n",
       "  'fma/fma_full/082/082085.mp3',\n",
       "  'fma/fma_full/083/083984.mp3',\n",
       "  'fma/fma_full/084/084614.mp3',\n",
       "  'fma/fma_full/137/137084.mp3',\n",
       "  'fma/fma_full/090/090695.mp3',\n",
       "  'fma/fma_full/041/041911.mp3',\n",
       "  'fma/fma_full/114/114973.mp3',\n",
       "  'fma/fma_full/083/083058.mp3',\n",
       "  'fma/fma_full/029/029457.mp3',\n",
       "  'fma/fma_full/116/116070.mp3',\n",
       "  'fma/fma_full/153/153510.mp3',\n",
       "  'fma/fma_full/098/098205.mp3',\n",
       "  'fma/fma_full/114/114605.mp3',\n",
       "  'fma/fma_full/107/107607.mp3',\n",
       "  'fma/fma_full/111/111206.mp3',\n",
       "  'fma/fma_full/118/118273.mp3',\n",
       "  'fma/fma_full/071/071944.mp3',\n",
       "  'fma/fma_full/137/137689.mp3'],\n",
       " ['fma/fma_full/112/112992.mp3',\n",
       "  'fma/fma_full/060/060924.mp3',\n",
       "  'fma/fma_full/053/053652.mp3',\n",
       "  'fma/fma_full/149/149813.mp3',\n",
       "  'fma/fma_full/066/066589.mp3',\n",
       "  'fma/fma_full/129/129853.mp3',\n",
       "  'fma/fma_full/083/083965.mp3',\n",
       "  'fma/fma_full/007/007526.mp3',\n",
       "  'fma/fma_full/090/090765.mp3',\n",
       "  'fma/fma_full/138/138111.mp3',\n",
       "  'fma/fma_full/150/150876.mp3',\n",
       "  'fma/fma_full/044/044370.mp3',\n",
       "  'fma/fma_full/147/147295.mp3',\n",
       "  'fma/fma_full/059/059734.mp3',\n",
       "  'fma/fma_full/120/120794.mp3',\n",
       "  'fma/fma_full/064/064592.mp3',\n",
       "  'fma/fma_full/122/122661.mp3',\n",
       "  'fma/fma_full/129/129922.mp3',\n",
       "  'fma/fma_full/134/134037.mp3',\n",
       "  'fma/fma_full/083/083546.mp3'],\n",
       " ['fma/fma_full/012/012354.mp3',\n",
       "  'fma/fma_full/055/055962.mp3',\n",
       "  'fma/fma_full/020/020408.mp3',\n",
       "  'fma/fma_full/081/081840.mp3',\n",
       "  'fma/fma_full/150/150599.mp3',\n",
       "  'fma/fma_full/055/055139.mp3',\n",
       "  'fma/fma_full/136/136588.mp3',\n",
       "  'fma/fma_full/133/133755.mp3',\n",
       "  'fma/fma_full/004/004212.mp3',\n",
       "  'fma/fma_full/039/039836.mp3',\n",
       "  'fma/fma_full/018/018098.mp3',\n",
       "  'fma/fma_full/095/095379.mp3',\n",
       "  'fma/fma_full/130/130350.mp3',\n",
       "  'fma/fma_full/130/130017.mp3',\n",
       "  'fma/fma_full/070/070297.mp3',\n",
       "  'fma/fma_full/086/086052.mp3',\n",
       "  'fma/fma_full/144/144941.mp3',\n",
       "  'fma/fma_full/133/133770.mp3',\n",
       "  'fma/fma_full/086/086049.mp3',\n",
       "  'fma/fma_full/075/075029.mp3']]"
      ]
     },
     "execution_count": 24,
     "metadata": {},
     "output_type": "execute_result"
    }
   ],
   "source": [
    "toolbox.population(n=3)"
   ]
  },
  {
   "cell_type": "code",
   "execution_count": null,
   "metadata": {},
   "outputs": [],
   "source": [
    "# Simulation parameters:\n",
    "# Number of generations\n",
    "NGEN = 5000\n",
    "# The number of individuals to select for the next generation (eliminate bad ones).\n",
    "MU = 500\n",
    "# The number of children to produce at each generation.\n",
    "LAMBDA = 50\n",
    "# The probability that an offspring is produced by crossover.\n",
    "CXPB = 0.5\n",
    "# The probability that an offspring is produced by mutation.\n",
    "MUTPB = 0.5\n",
    "\n",
    "# Initial population\n",
    "pop = toolbox.population(n=MU)\n",
    "\n",
    "# The top playlist is the one that is best on all scores in the fitness\n",
    "hof = tools.ParetoFront()\n",
    "\n",
    "# fitness is composed of:\n",
    "# 0: diff_play_time, 1: genre_entropy, 2: tonal_keys_entropy,\n",
    "# 3: sum_diff_bpm, 4: diff_beats_loudness, 5: diff_loudness, 6: diff_dissonance,\n",
    "# 7: avg_interest, 8: avg_listens, 9: avg_favorites\n",
    "\n",
    "# compute some statistics as the simulation proceeds\n",
    "diff_play_time_stats = tools.Statistics(key=lambda ind: ind.fitness.values[0])\n",
    "genre_entropy_stats = tools.Statistics(key=lambda ind: ind.fitness.values[1])\n",
    "tonal_keys_entropy_stats = tools.Statistics(key=lambda ind: ind.fitness.values[2])\n",
    "sum_diff_bpm_stats = tools.Statistics(key=lambda ind: ind.fitness.values[3])\n",
    "diff_beats_loudness_stats = tools.Statistics(key=lambda ind: ind.fitness.values[4])\n",
    "diff_loudness_stats = tools.Statistics(key=lambda ind: ind.fitness.values[5])\n",
    "diff_dissonance_stats = tools.Statistics(key=lambda ind: ind.fitness.values[6])\n",
    "avg_interest_stats = tools.Statistics(key=lambda ind: ind.fitness.values[7])\n",
    "avg_listens_stats = tools.Statistics(key=lambda ind: ind.fitness.values[8])\n",
    "avg_favorites_stats = tools.Statistics(key=lambda ind: ind.fitness.values[9])\n",
    "\n",
    "stats = tools.MultiStatistics(time=diff_play_time_stats,\n",
    "                              genre=genre_entropy_stats,\n",
    "                              tonal=tonal_keys_entropy_stats,\n",
    "                              bpm=sum_diff_bpm_stats,\n",
    "                              bloud=diff_beats_loudness_stats,\n",
    "                              loud=diff_loudness_stats,\n",
    "                              diss=diff_dissonance_stats,\n",
    "                              interest=avg_interest_stats,\n",
    "                              listens=avg_listens_stats,\n",
    "                              favs=avg_favorites_stats)\n",
    "stats.register(\"avg\", numpy.mean, axis=0)\n",
    "\n",
    "# run the simulation\n",
    "algorithms.eaMuPlusLambda(pop, toolbox, MU, LAMBDA, CXPB, MUTPB, NGEN,\n",
    "                          stats, halloffame=hof, verbose=False)"
   ]
  },
  {
   "cell_type": "code",
   "execution_count": 26,
   "metadata": {},
   "outputs": [
    {
     "name": "stdout",
     "output_type": "stream",
     "text": [
      "Best playlist:\n",
      "---\n",
      "fma/fma_full/084/084817.mp3 - Robin Mitchell / Wide Of The Mark (03:59, 98.01 BPM) ['Pop']\n",
      "fma/fma_full/151/151957.mp3 - Laisse Sheila Tranquille / Sheila Electro - First Live 2007 (03:05, 139.39 BPM) ['Punk', 'Garage', 'Hardcore']\n",
      "fma/fma_full/062/062419.mp3 - Jahzzar / The last ones (03:00, 87.86 BPM) ['Rock', 'Celtic']\n",
      "fma/fma_full/084/084990.mp3 - The Kyoto Connection / Hachiko (The Faithtful Dog) (03:05, 151.02 BPM) ['Pop', 'Electronic', 'New Age', 'Instrumental']\n",
      "fma/fma_full/028/028553.mp3 - _ghost / Lullaby (03:49, 134.46 BPM) ['Trip-Hop']\n",
      "fma/fma_full/075/075002.mp3 - Radio Royal / I'll Reach You (07:16, 163.79 BPM) ['Electronic', 'Experimental', 'Ambient']\n",
      "fma/fma_full/142/142661.mp3 - MindsEye & Dr. Rinkel / Through the Atmosphere (04:09, 143.90 BPM) \n",
      "fma/fma_full/023/023884.mp3 - ignatzthemouse / Point taken but I'm just going to keep saying 'cactuses' anyway (04:21, 118.20 BPM) ['Chiptune', 'Chip Music']\n",
      "fma/fma_full/024/024648.mp3 - Attic Ted / My Turn Now (03:40, 139.83 BPM) \n",
      "fma/fma_full/070/070648.mp3 - Y:E:T / Dancing Photon (03:34, 172.27 BPM) ['Experimental', 'Ambient Electronic']\n",
      "fma/fma_full/139/139167.mp3 - Daniel James Dolby / A Warning (03:34, 97.49 BPM) ['Soundtrack', 'Experimental', 'Ambient Electronic']\n",
      "fma/fma_full/016/016523.mp3 - Kakitsubata (Sylvie Walder + _) / Dust of silence: 触れることができる音 (03:57, 155.19 BPM) ['Ambient']\n",
      "fma/fma_full/092/092444.mp3 - analoc / The Duke (03:30, 91.03 BPM) ['Experimental', 'Downtempo']\n",
      "fma/fma_full/075/075686.mp3 - Shearer / Is it you (Paradise Mix) (05:00, 88.19 BPM) ['Rock', 'Punk']\n",
      "fma/fma_full/041/041335.mp3 - Uton / Healer's Mix/The Full Moon Woods (05:42, 163.18 BPM) ['Psych-Folk', 'Experimental', 'Drone']\n",
      "fma/fma_full/027/027682.mp3 - Tha Silent Partner / Nanana (03:58, 89.99 BPM) ['Funk', 'Hip-Hop']\n",
      "fma/fma_full/079/079928.mp3 - Drn Drn / Nighttime in dormitory (03:15, 94.29 BPM) ['Avant-Garde', 'Soundtrack', 'Experimental']\n",
      "fma/fma_full/155/155148.mp3 - Theredhead76 / Gone (03:25, 178.21 BPM) ['Ambient Electronic']\n",
      "fma/fma_full/129/129479.mp3 - Alex Battles & the Engelberts / Pennsylvania (03:42, 88.80 BPM) ['Country', 'Americana']\n",
      "fma/fma_full/124/124876.mp3 - Sergey Cheremisinov / Fragile Ice (04:01, 184.57 BPM) ['Soundtrack']\n",
      "fma/fma_full/031/031264.mp3 - Bloody Muffs / Cause And Effect (03:00, 97.23 BPM) ['Metal']\n",
      "fma/fma_full/140/140584.mp3 - Sidy Maiga / Haiti Mali (07:00, 143.32 BPM) ['International', 'Afrobeat']\n",
      "fma/fma_full/058/058668.mp3 - Monsieur Tympan / Un reve etrange (03:04, 106.36 BPM) \n",
      "fma/fma_full/056/056508.mp3 - Kellee Maize / La La Love (04:25, 99.93 BPM) ['Pop', 'Electronic', 'Hip-Hop']\n",
      "fma/fma_full/034/034631.mp3 - Baker & Able / Two Song Song (04:10, 155.07 BPM) ['Avant-Garde', 'Lo-Fi', 'Experimental Pop']\n",
      "fma/fma_full/054/054661.mp3 - Noisewaves / Do I Look Like I Want To Play Volleyball? (03:37, 95.86 BPM) ['Chip Music']\n",
      "fma/fma_full/023/023124.mp3 - Lee Maddeford / I'idole (04:20, 117.69 BPM) ['Classical', 'Europe', '20th Century Classical', 'Choral Music']\n",
      "fma/fma_full/047/047510.mp3 - The Whines / Vacation (03:29, 139.71 BPM) ['Lo-Fi', 'Garage']\n",
      "fma/fma_full/023/023083.mp3 - Audace / l'amant des femmes à brioche (03:02, 129.91 BPM) ['Electronic', 'Experimental Pop', 'Glitch']\n",
      "fma/fma_full/105/105631.mp3 - keith helt / cascaquia (03:51, 162.87 BPM) ['Experimental', 'Free-Jazz', 'Improv']\n",
      "---\n",
      "Diff play time: 0.0\n",
      "Genre entropy: 11.267782329116578\n",
      "Tonal keys entropy: 8.076995452013021\n",
      "Sum diff BPM: 1300.4480056762695\n",
      "Diff beats loudness: 3.4854490365833044\n",
      "Diff loudness: 24.212871551513672\n",
      "Diff dissonance: 0.1262493133544922\n",
      "Avg interest: 68530.03333333334\n",
      "Avg listens: 24718.8\n",
      "Avg favorites: 45.53333333333333\n"
     ]
    }
   ],
   "source": [
    "best = hof[0]\n",
    "print(\"Best playlist:\")\n",
    "print(\"---\")\n",
    "for track in best:\n",
    "    print(\"%s - %s / %s (%s, %.2f BPM) %s\" % (track, tracks_metadata[track]['artist_name'],\n",
    "                                              tracks_metadata[track]['track_title'],\n",
    "                                              tracks_metadata[track]['track_duration'],\n",
    "                                              track_features[track]['bpm'],\n",
    "                                              tracks_metadata[track]['track_genres']))\n",
    "print('---')\n",
    "print(\"Diff play time:\", best.fitness.values[0])\n",
    "print(\"Genre entropy:\", best.fitness.values[1])\n",
    "print(\"Tonal keys entropy:\", best.fitness.values[2])\n",
    "print(\"Sum diff BPM:\", best.fitness.values[3])\n",
    "print(\"Diff beats loudness:\", best.fitness.values[4])\n",
    "print(\"Diff loudness:\", best.fitness.values[5])\n",
    "print(\"Diff dissonance:\", best.fitness.values[6])\n",
    "print(\"Avg interest:\", best.fitness.values[7])\n",
    "print(\"Avg listens:\", best.fitness.values[8])\n",
    "print(\"Avg favorites:\", best.fitness.values[9])"
   ]
  },
  {
   "cell_type": "code",
   "execution_count": 27,
   "metadata": {},
   "outputs": [],
   "source": [
    "# write playlist (copy songs and create m3u file, one song per line)\n",
    "import os\n",
    "from shutil import copyfile\n",
    "\n",
    "os.mkdir('output')\n",
    "with open('output/playlist.m3u', 'wt') as m3u:\n",
    "    for track in best:\n",
    "        trackmp3 = track.split('/')[3]\n",
    "        copyfile(track, 'output/%s' % trackmp3)\n",
    "        m3u.write('%s\\n' % trackmp3)"
   ]
  },
  {
   "cell_type": "code",
   "execution_count": null,
   "metadata": {
    "collapsed": true
   },
   "outputs": [],
   "source": []
  }
 ],
 "metadata": {
  "kernelspec": {
   "display_name": "Python 3",
   "language": "python",
   "name": "python3"
  },
  "language_info": {
   "codemirror_mode": {
    "name": "ipython",
    "version": 3
   },
   "file_extension": ".py",
   "mimetype": "text/x-python",
   "name": "python",
   "nbconvert_exporter": "python",
   "pygments_lexer": "ipython3",
   "version": "3.6.1"
  }
 },
 "nbformat": 4,
 "nbformat_minor": 2
}
