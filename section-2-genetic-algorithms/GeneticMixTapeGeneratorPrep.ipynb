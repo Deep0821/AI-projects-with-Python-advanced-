{
 "cells": [
  {
   "cell_type": "markdown",
   "metadata": {},
   "source": [
    "# Loading track metadata"
   ]
  },
  {
   "cell_type": "code",
   "execution_count": 1,
   "metadata": {
    "collapsed": true
   },
   "outputs": [],
   "source": [
    "import csv\n",
    "import re\n",
    "import json\n",
    "tracks_metadata = {}\n",
    "with open('fma/fma_metadata/raw_tracks.csv', encoding='utf-8') as fin:\n",
    "    reader = csv.reader(fin, skipinitialspace=True, quotechar=\"\\\"\")\n",
    "    headers = []\n",
    "    rownum = 0\n",
    "    for row in reader:\n",
    "        if rownum == 0:\n",
    "            headers = row\n",
    "            rownum += 1\n",
    "        else:\n",
    "            trackid = '%06d' % int(row[0])\n",
    "            fname = 'fma/fma_full/%s/%s.mp3' % (trackid[:3], trackid)\n",
    "            tracks_metadata[fname] = dict(zip(headers, row))\n",
    "            if len(tracks_metadata[fname]['track_genres']) > 0:\n",
    "                genres = json.loads(re.sub(r'\\'', '\"', tracks_metadata[fname]['track_genres'])) # fix json quotes\n",
    "                tracks_metadata[fname]['track_genres'] = list(map(lambda g: g['genre_title'], genres))"
   ]
  },
  {
   "cell_type": "code",
   "execution_count": 2,
   "metadata": {},
   "outputs": [
    {
     "data": {
      "text/plain": [
       "109727"
      ]
     },
     "execution_count": 2,
     "metadata": {},
     "output_type": "execute_result"
    }
   ],
   "source": [
    "len(tracks_metadata)"
   ]
  },
  {
   "cell_type": "code",
   "execution_count": 3,
   "metadata": {},
   "outputs": [
    {
     "data": {
      "text/plain": [
       "['fma/fma_full/000/000002.mp3',\n",
       " 'fma/fma_full/000/000003.mp3',\n",
       " 'fma/fma_full/000/000005.mp3',\n",
       " 'fma/fma_full/000/000010.mp3',\n",
       " 'fma/fma_full/000/000020.mp3',\n",
       " 'fma/fma_full/000/000026.mp3',\n",
       " 'fma/fma_full/000/000030.mp3',\n",
       " 'fma/fma_full/000/000046.mp3',\n",
       " 'fma/fma_full/000/000048.mp3',\n",
       " 'fma/fma_full/000/000134.mp3']"
      ]
     },
     "execution_count": 3,
     "metadata": {},
     "output_type": "execute_result"
    }
   ],
   "source": [
    "list(tracks_metadata.keys())[:10]"
   ]
  },
  {
   "cell_type": "code",
   "execution_count": 4,
   "metadata": {},
   "outputs": [
    {
     "data": {
      "text/plain": [
       "['track_id',\n",
       " 'album_id',\n",
       " 'album_title',\n",
       " 'album_url',\n",
       " 'artist_id',\n",
       " 'artist_name',\n",
       " 'artist_url',\n",
       " 'artist_website',\n",
       " 'license_image_file',\n",
       " 'license_image_file_large',\n",
       " 'license_parent_id',\n",
       " 'license_title',\n",
       " 'license_url',\n",
       " 'tags',\n",
       " 'track_bit_rate',\n",
       " 'track_comments',\n",
       " 'track_composer',\n",
       " 'track_copyright_c',\n",
       " 'track_copyright_p',\n",
       " 'track_date_created',\n",
       " 'track_date_recorded',\n",
       " 'track_disc_number',\n",
       " 'track_duration',\n",
       " 'track_explicit',\n",
       " 'track_explicit_notes',\n",
       " 'track_favorites',\n",
       " 'track_file',\n",
       " 'track_genres',\n",
       " 'track_image_file',\n",
       " 'track_information',\n",
       " 'track_instrumental',\n",
       " 'track_interest',\n",
       " 'track_language_code',\n",
       " 'track_listens',\n",
       " 'track_lyricist',\n",
       " 'track_number',\n",
       " 'track_publisher',\n",
       " 'track_title',\n",
       " 'track_url']"
      ]
     },
     "execution_count": 4,
     "metadata": {},
     "output_type": "execute_result"
    }
   ],
   "source": [
    "list(tracks_metadata['fma/fma_full/000/000002.mp3'].keys())"
   ]
  },
  {
   "cell_type": "code",
   "execution_count": 5,
   "metadata": {},
   "outputs": [
    {
     "data": {
      "text/plain": [
       "{'album_id': '1',\n",
       " 'album_title': 'AWOL - A Way Of Life',\n",
       " 'album_url': 'http://freemusicarchive.org/music/AWOL/AWOL_-_A_Way_Of_Life/',\n",
       " 'artist_id': '1',\n",
       " 'artist_name': 'AWOL',\n",
       " 'artist_url': 'http://freemusicarchive.org/music/AWOL/',\n",
       " 'artist_website': 'http://www.AzillionRecords.blogspot.com',\n",
       " 'license_image_file': 'http://i.creativecommons.org/l/by-nc-sa/3.0/us/88x31.png',\n",
       " 'license_image_file_large': 'http://fma-files.s3.amazonaws.com/resources/img/licenses/by-nc-sa.png',\n",
       " 'license_parent_id': '5',\n",
       " 'license_title': 'Attribution-NonCommercial-ShareAlike 3.0 International',\n",
       " 'license_url': 'http://creativecommons.org/licenses/by-nc-sa/3.0/',\n",
       " 'tags': '[]',\n",
       " 'track_bit_rate': '256000',\n",
       " 'track_comments': '0',\n",
       " 'track_composer': '',\n",
       " 'track_copyright_c': '',\n",
       " 'track_copyright_p': '',\n",
       " 'track_date_created': '11/26/2008 01:48:12 AM',\n",
       " 'track_date_recorded': '11/26/2008',\n",
       " 'track_disc_number': '1',\n",
       " 'track_duration': '02:48',\n",
       " 'track_explicit': 'Radio-Unsafe',\n",
       " 'track_explicit_notes': '',\n",
       " 'track_favorites': '2',\n",
       " 'track_file': 'music/WFMU/AWOL/AWOL_-_A_Way_Of_Life/AWOL_-_03_-_Food.mp3',\n",
       " 'track_genres': ['Hip-Hop'],\n",
       " 'track_id': '2',\n",
       " 'track_image_file': 'https://freemusicarchive.org/file/images/albums/AWOL_-_AWOL_-_A_Way_Of_Life_-_2009113011911435.jpg',\n",
       " 'track_information': '',\n",
       " 'track_instrumental': '0',\n",
       " 'track_interest': '4656',\n",
       " 'track_language_code': 'en',\n",
       " 'track_listens': '1293',\n",
       " 'track_lyricist': '',\n",
       " 'track_number': '3',\n",
       " 'track_publisher': '',\n",
       " 'track_title': 'Food',\n",
       " 'track_url': 'http://freemusicarchive.org/music/AWOL/AWOL_-_A_Way_Of_Life/Food'}"
      ]
     },
     "execution_count": 5,
     "metadata": {},
     "output_type": "execute_result"
    }
   ],
   "source": [
    "tracks_metadata['fma/fma_full/000/000002.mp3']"
   ]
  },
  {
   "cell_type": "code",
   "execution_count": 6,
   "metadata": {},
   "outputs": [
    {
     "data": {
      "image/png": "[encoded data removed]",
      "text/plain": [
       "<matplotlib.figure.Figure at 0x7f4f3908ef60>"
      ]
     },
     "metadata": {},
     "output_type": "display_data"
    }
   ],
   "source": [
    "import matplotlib.pyplot as plt\n",
    "plt.hist(list(filter(lambda listens: listens < 4000, \n",
    "                     map(lambda t: int(tracks_metadata[t]['track_listens']),\n",
    "                         tracks_metadata.keys()))),\n",
    "         bins=50)\n",
    "plt.show()"
   ]
  },
  {
   "cell_type": "code",
   "execution_count": 7,
   "metadata": {},
   "outputs": [
    {
     "data": {
      "image/png": "[encoded data removed]",
      "text/plain": [
       "<matplotlib.figure.Figure at 0x7f4f3908eb38>"
      ]
     },
     "metadata": {},
     "output_type": "display_data"
    }
   ],
   "source": [
    "plt.hist(list(filter(lambda interest: interest < 4000,\n",
    "                     map(lambda t: int(tracks_metadata[t]['track_interest']), \n",
    "                         tracks_metadata.keys()))),\n",
    "         bins=50)\n",
    "plt.show()"
   ]
  },
  {
   "cell_type": "code",
   "execution_count": 8,
   "metadata": {},
   "outputs": [
    {
     "data": {
      "image/png": "[encoded data removed]",
      "text/plain": [
       "<matplotlib.figure.Figure at 0x7f4f3908eb00>"
      ]
     },
     "metadata": {},
     "output_type": "display_data"
    }
   ],
   "source": [
    "plt.hist(list(filter(lambda favorites: favorites < 30,\n",
    "                     map(lambda t: int(tracks_metadata[t]['track_favorites']),\n",
    "                         tracks_metadata.keys()))),\n",
    "         bins=30)\n",
    "plt.show()"
   ]
  },
  {
   "cell_type": "markdown",
   "metadata": {},
   "source": [
    "# Exploration of track features"
   ]
  },
  {
   "cell_type": "code",
   "execution_count": 9,
   "metadata": {
    "collapsed": true
   },
   "outputs": [],
   "source": [
    "from essentia.standard import *"
   ]
  },
  {
   "cell_type": "code",
   "execution_count": 10,
   "metadata": {
    "collapsed": true
   },
   "outputs": [],
   "source": [
    "features, _ = MusicExtractor(lowlevelStats=['mean', 'stdev'],\n",
    "                             rhythmStats=['mean', 'stdev'],\n",
    "                             tonalStats=['mean', 'stdev'])('fma/fma_full/000/000002.mp3')"
   ]
  },
  {
   "cell_type": "code",
   "execution_count": 11,
   "metadata": {},
   "outputs": [
    {
     "name": "stdout",
     "output_type": "stream",
     "text": [
      "['lowlevel.average_loudness', 'lowlevel.barkbands.mean', 'lowlevel.barkbands.stdev', 'lowlevel.barkbands_crest.mean', 'lowlevel.barkbands_crest.stdev', 'lowlevel.barkbands_flatness_db.mean', 'lowlevel.barkbands_flatness_db.stdev', 'lowlevel.barkbands_kurtosis.mean', 'lowlevel.barkbands_kurtosis.stdev', 'lowlevel.barkbands_skewness.mean', 'lowlevel.barkbands_skewness.stdev', 'lowlevel.barkbands_spread.mean', 'lowlevel.barkbands_spread.stdev', 'lowlevel.dissonance.mean', 'lowlevel.dissonance.stdev', 'lowlevel.dynamic_complexity', 'lowlevel.erbbands.mean', 'lowlevel.erbbands.stdev', 'lowlevel.erbbands_crest.mean', 'lowlevel.erbbands_crest.stdev', 'lowlevel.erbbands_flatness_db.mean', 'lowlevel.erbbands_flatness_db.stdev', 'lowlevel.erbbands_kurtosis.mean', 'lowlevel.erbbands_kurtosis.stdev', 'lowlevel.erbbands_skewness.mean', 'lowlevel.erbbands_skewness.stdev', 'lowlevel.erbbands_spread.mean', 'lowlevel.erbbands_spread.stdev', 'lowlevel.gfcc.cov', 'lowlevel.gfcc.icov', 'lowlevel.gfcc.mean', 'lowlevel.hfc.mean', 'lowlevel.hfc.stdev', 'lowlevel.loudness_ebu128.integrated', 'lowlevel.loudness_ebu128.loudness_range', 'lowlevel.loudness_ebu128.momentary.mean', 'lowlevel.loudness_ebu128.momentary.stdev', 'lowlevel.loudness_ebu128.short_term.mean', 'lowlevel.loudness_ebu128.short_term.stdev', 'lowlevel.melbands.mean', 'lowlevel.melbands.stdev', 'lowlevel.melbands128.mean', 'lowlevel.melbands128.stdev', 'lowlevel.melbands_crest.mean', 'lowlevel.melbands_crest.stdev', 'lowlevel.melbands_flatness_db.mean', 'lowlevel.melbands_flatness_db.stdev', 'lowlevel.melbands_kurtosis.mean', 'lowlevel.melbands_kurtosis.stdev', 'lowlevel.melbands_skewness.mean', 'lowlevel.melbands_skewness.stdev', 'lowlevel.melbands_spread.mean', 'lowlevel.melbands_spread.stdev', 'lowlevel.mfcc.cov', 'lowlevel.mfcc.icov', 'lowlevel.mfcc.mean', 'lowlevel.pitch_salience.mean', 'lowlevel.pitch_salience.stdev', 'lowlevel.silence_rate_20dB.mean', 'lowlevel.silence_rate_20dB.stdev', 'lowlevel.silence_rate_30dB.mean', 'lowlevel.silence_rate_30dB.stdev', 'lowlevel.silence_rate_60dB.mean', 'lowlevel.silence_rate_60dB.stdev', 'lowlevel.spectral_centroid.mean', 'lowlevel.spectral_centroid.stdev', 'lowlevel.spectral_complexity.mean', 'lowlevel.spectral_complexity.stdev', 'lowlevel.spectral_contrast_coeffs.mean', 'lowlevel.spectral_contrast_coeffs.stdev', 'lowlevel.spectral_contrast_valleys.mean', 'lowlevel.spectral_contrast_valleys.stdev', 'lowlevel.spectral_decrease.mean', 'lowlevel.spectral_decrease.stdev', 'lowlevel.spectral_energy.mean', 'lowlevel.spectral_energy.stdev', 'lowlevel.spectral_energyband_high.mean', 'lowlevel.spectral_energyband_high.stdev', 'lowlevel.spectral_energyband_low.mean', 'lowlevel.spectral_energyband_low.stdev', 'lowlevel.spectral_energyband_middle_high.mean', 'lowlevel.spectral_energyband_middle_high.stdev', 'lowlevel.spectral_energyband_middle_low.mean', 'lowlevel.spectral_energyband_middle_low.stdev', 'lowlevel.spectral_entropy.mean', 'lowlevel.spectral_entropy.stdev', 'lowlevel.spectral_flux.mean', 'lowlevel.spectral_flux.stdev', 'lowlevel.spectral_kurtosis.mean', 'lowlevel.spectral_kurtosis.stdev', 'lowlevel.spectral_rms.mean', 'lowlevel.spectral_rms.stdev', 'lowlevel.spectral_rolloff.mean', 'lowlevel.spectral_rolloff.stdev', 'lowlevel.spectral_skewness.mean', 'lowlevel.spectral_skewness.stdev', 'lowlevel.spectral_spread.mean', 'lowlevel.spectral_spread.stdev', 'lowlevel.spectral_strongpeak.mean', 'lowlevel.spectral_strongpeak.stdev', 'lowlevel.zerocrossingrate.mean', 'lowlevel.zerocrossingrate.stdev', 'metadata.audio_properties.analysis.downmix', 'metadata.audio_properties.analysis.equal_loudness', 'metadata.audio_properties.analysis.length', 'metadata.audio_properties.analysis.sample_rate', 'metadata.audio_properties.analysis.start_time', 'metadata.audio_properties.bit_rate', 'metadata.audio_properties.codec', 'metadata.audio_properties.length', 'metadata.audio_properties.lossless', 'metadata.audio_properties.md5_encoded', 'metadata.audio_properties.number_channels', 'metadata.audio_properties.replay_gain', 'metadata.audio_properties.sample_rate', 'metadata.tags.album', 'metadata.tags.artist', 'metadata.tags.date', 'metadata.tags.file_name', 'metadata.tags.genre', 'metadata.tags.title', 'metadata.tags.tracknumber', 'metadata.version.essentia', 'metadata.version.essentia_git_sha', 'metadata.version.extractor', 'rhythm.beats_count', 'rhythm.beats_loudness.mean', 'rhythm.beats_loudness.stdev', 'rhythm.beats_loudness_band_ratio.mean', 'rhythm.beats_loudness_band_ratio.stdev', 'rhythm.beats_position', 'rhythm.bpm', 'rhythm.bpm_histogram', 'rhythm.bpm_histogram_first_peak_bpm', 'rhythm.bpm_histogram_first_peak_weight', 'rhythm.bpm_histogram_second_peak_bpm', 'rhythm.bpm_histogram_second_peak_spread', 'rhythm.bpm_histogram_second_peak_weight', 'rhythm.danceability', 'rhythm.onset_rate', 'tonal.chords_changes_rate', 'tonal.chords_histogram', 'tonal.chords_key', 'tonal.chords_number_rate', 'tonal.chords_scale', 'tonal.chords_strength.mean', 'tonal.chords_strength.stdev', 'tonal.hpcp.mean', 'tonal.hpcp.stdev', 'tonal.hpcp_crest.mean', 'tonal.hpcp_crest.stdev', 'tonal.hpcp_entropy.mean', 'tonal.hpcp_entropy.stdev', 'tonal.key_edma.key', 'tonal.key_edma.scale', 'tonal.key_edma.strength', 'tonal.key_krumhansl.key', 'tonal.key_krumhansl.scale', 'tonal.key_krumhansl.strength', 'tonal.key_temperley.key', 'tonal.key_temperley.scale', 'tonal.key_temperley.strength', 'tonal.thpcp', 'tonal.tuning_diatonic_strength', 'tonal.tuning_equal_tempered_deviation', 'tonal.tuning_frequency', 'tonal.tuning_nontempered_energy_ratio']\n"
     ]
    }
   ],
   "source": [
    "print(sorted(features.descriptorNames()))"
   ]
  },
  {
   "cell_type": "code",
   "execution_count": 12,
   "metadata": {},
   "outputs": [
    {
     "name": "stdout",
     "output_type": "stream",
     "text": [
      "Filename: 000002.mp3\n",
      "--------------------------------------------------------------------------------\n",
      "Replay gain: -10.055500030517578\n",
      "EBU128 integrated loudness: -14.002805709838867\n",
      "EBU128 loudness range: 4.868924140930176\n",
      "--------------------------------------------------------------------------------\n",
      "MFCC mean: [-6.7903918e+02  8.7918533e+01 -1.7259655e+01  8.6274939e+00\n",
      " -1.7729234e+00  1.9107091e+00 -1.0454731e+00 -2.8658957e+00\n",
      " -7.9511056e+00 -9.2950386e-01 -7.5173125e+00 -2.1692748e+00\n",
      " -5.0922811e-01]\n",
      "Lowlevel dissonance mean: 0.4697345495223999\n",
      "--------------------------------------------------------------------------------\n",
      "BPM: 83.02522277832031\n",
      "Beats loudness mean: 0.07858049124479294\n",
      "Beat positions (sec.) [  0.5572789   1.1261678   1.6950567   2.2523355   2.7980044   3.4017234\n",
      "   4.017052    4.632381    5.2477098   5.8746486   6.6176867   7.3607254\n",
      "   8.068934    8.777143    9.496962   10.21678    10.936599   11.644807\n",
      "  12.376236   13.096054   13.815873   14.535691   15.26712    15.986938\n",
      "  16.718367   17.438185   18.158005   18.877823   19.597641   20.32907\n",
      "  21.0605     21.791927   22.511745   23.231564   23.951384   24.659592\n",
      "  25.37941    26.099228   26.830658   27.550476   28.270294   29.001722\n",
      "  29.721542   30.44136    31.161179   31.892607   32.624035   33.343853\n",
      "  34.06367    34.783493   35.50331    36.22313    36.954556   37.685986\n",
      "  38.405804   39.12562    39.84544    40.56526    41.28508    42.004898\n",
      "  42.736324   43.456142   44.187572   44.90739    45.62721    46.347027\n",
      "  47.078457   47.809887   48.529705   49.249523   49.96934    50.68916\n",
      "  51.42059    52.152016   52.871838   53.591656   54.311474   55.031292\n",
      "  55.75111    56.47093    57.190746   57.910564   58.630383   59.361813\n",
      "  60.093243   60.81306    61.53288    62.252697   62.972515   63.703945\n",
      "  64.43537    65.15519    65.87501    66.594826   67.314644   68.03447\n",
      "  68.76589    69.49732    70.21714    70.93696    71.65678    72.376595\n",
      "  73.108025   73.82784    74.55927    75.27909    75.99891    76.71873\n",
      "  77.438545   78.15836    78.88979    79.60961    80.34104    81.06086\n",
      "  81.78068    82.500496   83.220314   83.94013    84.65995    85.39138\n",
      "  86.12281    86.84263    87.56245    88.282265   89.00208    89.7219\n",
      "  90.44172    91.17315    91.90458    92.6244     93.344215   94.06403\n",
      "  94.78385    95.51528    96.24671    96.96653    97.68635    98.406166\n",
      "  99.125984   99.8458    100.588844  101.30866   102.02848   102.7483\n",
      " 103.46812   104.187935  104.90775   105.62757   106.37061   107.09043\n",
      " 107.81025   108.53007   109.249886  109.981316  110.71274   111.43256\n",
      " 112.15238   112.8722    113.59202   114.31184   115.031654  115.75147\n",
      " 116.47129   117.19111   117.92254   118.65397   119.37379   120.093605\n",
      " 120.81342   121.54485   122.276276  122.99609   123.71592   124.43574\n",
      " 125.155556  125.875374  126.59519   127.32662   128.05804   128.77786\n",
      " 129.49768   130.2175    130.93732   131.65714   132.37695   133.10838\n",
      " 133.83981   134.55963   135.27945   135.99927   136.71909   137.4389\n",
      " 138.17033   138.90176   139.62158   140.3414    141.06122   141.78104\n",
      " 142.50085   143.23228   143.96371   144.68353   145.40335   146.12317\n",
      " 146.84299   147.5628    148.28262   149.01405   149.74548   150.4653\n",
      " 151.18512   151.90494   152.62476   153.34457   154.076     154.80743\n",
      " 155.52725   156.24707   156.96689   157.6867    158.40652   159.13795\n",
      " 159.86938   160.5892    161.30902   162.02884   162.74866   163.45686\n",
      " 164.16507   164.85007   165.5815    166.31293   167.04436  ]\n",
      "--------------------------------------------------------------------------------\n",
      "Key/scale estimation (using a profile specifically suited for electronic music): C major\n"
     ]
    }
   ],
   "source": [
    "print(\"Filename:\", features['metadata.tags.file_name'])\n",
    "print(\"-\"*80)\n",
    "print(\"Replay gain:\", features['metadata.audio_properties.replay_gain'])\n",
    "print(\"EBU128 integrated loudness:\", features['lowlevel.loudness_ebu128.integrated'])\n",
    "print(\"EBU128 loudness range:\", features['lowlevel.loudness_ebu128.loudness_range'])\n",
    "print(\"-\"*80)\n",
    "print(\"MFCC mean:\", features['lowlevel.mfcc.mean'])\n",
    "print('Lowlevel dissonance mean:', features['lowlevel.dissonance.mean'])\n",
    "print(\"-\"*80)\n",
    "print(\"BPM:\", features['rhythm.bpm'])\n",
    "print('Beats loudness mean:', features['rhythm.beats_loudness.mean'])\n",
    "print(\"Beat positions (sec.)\", features['rhythm.beats_position'])\n",
    "print(\"-\"*80)\n",
    "print(\"Key/scale estimation (using a profile specifically suited for electronic music):\",\n",
    "      features['tonal.key_edma.key'], features['tonal.key_edma.scale'])"
   ]
  },
  {
   "cell_type": "code",
   "execution_count": 13,
   "metadata": {
    "collapsed": true
   },
   "outputs": [],
   "source": [
    "marker = AudioOnsetsMarker(onsets=features['rhythm.beats_position'], type='beep')\n",
    "audio = MonoLoader(filename='fma/fma_full/000/000002.mp3')()\n",
    "marked_audio = marker(audio)\n",
    "MonoWriter(filename='test.mp3')(marked_audio)"
   ]
  },
  {
   "cell_type": "markdown",
   "metadata": {},
   "source": [
    "# Extract features for tracks"
   ]
  },
  {
   "cell_type": "code",
   "execution_count": 18,
   "metadata": {
    "collapsed": true
   },
   "outputs": [],
   "source": [
    "from essentia.standard import *\n",
    "def extract_features(track):\n",
    "    try:\n",
    "        features, _ = MusicExtractor(lowlevelStats=['mean', 'stdev'],\n",
    "                                     rhythmStats=['mean', 'stdev'],\n",
    "                                     tonalStats=['mean', 'stdev'])(track)\n",
    "        genres = tracks_metadata[track]['track_genres']\n",
    "        listens = int(tracks_metadata[track]['track_listens'])\n",
    "        favorites = int(tracks_metadata[track]['track_favorites'])\n",
    "        interest = int(tracks_metadata[track]['track_interest'])\n",
    "        loudness = features['lowlevel.loudness_ebu128.integrated']\n",
    "        loudness_range = features['lowlevel.loudness_ebu128.loudness_range']\n",
    "        bpm = features['rhythm.bpm']\n",
    "        beats_loudness = features['rhythm.beats_loudness.mean']\n",
    "        tonal_key = features['tonal.key_edma.key']\n",
    "        tonal_scale = features['tonal.key_edma.scale'],\n",
    "        dissonance = features['lowlevel.dissonance.mean']\n",
    "        f = {'genres': genres,\n",
    "             'listens': listens,\n",
    "             'favorites': favorites,\n",
    "             'interest': interest,\n",
    "             'loudness': loudness,\n",
    "             'loudness_range': loudness_range,\n",
    "             'bpm': bpm,\n",
    "             'beats_loudness': beats_loudness,\n",
    "             'tonal_key': tonal_key,\n",
    "             'tonal_scale': tonal_scale,\n",
    "             'dissonance': dissonance\n",
    "            }\n",
    "    except:\n",
    "        f = {}\n",
    "    return f"
   ]
  },
  {
   "cell_type": "code",
   "execution_count": 15,
   "metadata": {},
   "outputs": [
    {
     "name": "stdout",
     "output_type": "stream",
     "text": [
      "347.20725655555725\n"
     ]
    }
   ],
   "source": [
    "import random\n",
    "import time\n",
    "ts = list(tracks_metadata.keys())\n",
    "random.shuffle(ts)\n",
    "\n",
    "start = time.time()\n",
    "track_features = {}\n",
    "for t in ts[:10]:\n",
    "    track_features[t] = extract_features(t)\n",
    "end = time.time()\n",
    "print(end - start)"
   ]
  },
  {
   "cell_type": "code",
   "execution_count": 16,
   "metadata": {},
   "outputs": [
    {
     "data": {
      "text/plain": [
       "{'fma/fma_full/018/018222.mp3': {'beats_loudness': 0.11321214586496353,\n",
       "  'bpm': 83.11337280273438,\n",
       "  'dissonance': 0.45790067315101624,\n",
       "  'favorites': 1,\n",
       "  'genres': ['Hip-Hop'],\n",
       "  'interest': 1000,\n",
       "  'listens': 509,\n",
       "  'loudness': -17.096981048583984,\n",
       "  'loudness_range': 5.927267074584961,\n",
       "  'tonal_key': 'F',\n",
       "  'tonal_scale': ('major',)},\n",
       " 'fma/fma_full/020/020852.mp3': {'beats_loudness': 0.24055372178554535,\n",
       "  'bpm': 119.98658752441406,\n",
       "  'dissonance': 0.407480388879776,\n",
       "  'favorites': 0,\n",
       "  'genres': ['Avant-Garde',\n",
       "   'Lo-Fi',\n",
       "   'Krautrock',\n",
       "   'Experimental Pop',\n",
       "   'Unclassifiable',\n",
       "   'Sound Poetry'],\n",
       "  'interest': 1075,\n",
       "  'listens': 131,\n",
       "  'loudness': -17.268877029418945,\n",
       "  'loudness_range': 4.257085800170898,\n",
       "  'tonal_key': 'D#',\n",
       "  'tonal_scale': ('minor',)},\n",
       " 'fma/fma_full/056/056943.mp3': {'beats_loudness': 0.03015599399805069,\n",
       "  'bpm': 109.72089385986328,\n",
       "  'dissonance': 0.17602571845054626,\n",
       "  'favorites': 0,\n",
       "  'genres': ['Electronic'],\n",
       "  'interest': 672,\n",
       "  'listens': 513,\n",
       "  'loudness': -3.4774727821350098,\n",
       "  'loudness_range': 1.8279011249542236,\n",
       "  'tonal_key': 'D',\n",
       "  'tonal_scale': ('minor',)},\n",
       " 'fma/fma_full/066/066309.mp3': {'beats_loudness': 0.027770621702075005,\n",
       "  'bpm': 98.54904174804688,\n",
       "  'dissonance': 0.47040069103240967,\n",
       "  'favorites': 3,\n",
       "  'genres': ['Electronic', 'Lo-Fi', 'Experimental Pop'],\n",
       "  'interest': 4414,\n",
       "  'listens': 1643,\n",
       "  'loudness': -25.05875015258789,\n",
       "  'loudness_range': 12.69862174987793,\n",
       "  'tonal_key': 'E',\n",
       "  'tonal_scale': ('major',)},\n",
       " 'fma/fma_full/108/108115.mp3': {'beats_loudness': 0.07301609218120575,\n",
       "  'bpm': 80.86393737792969,\n",
       "  'dissonance': 0.4644606113433838,\n",
       "  'favorites': 6,\n",
       "  'genres': ['Field Recordings', 'Asia-Far East'],\n",
       "  'interest': 9302,\n",
       "  'listens': 8647,\n",
       "  'loudness': -24.351478576660156,\n",
       "  'loudness_range': 23.2659854888916,\n",
       "  'tonal_key': 'A',\n",
       "  'tonal_scale': ('minor',)},\n",
       " 'fma/fma_full/120/120107.mp3': {'beats_loudness': 0.023478087037801743,\n",
       "  'bpm': 100.36524200439453,\n",
       "  'dissonance': 0.4356195628643036,\n",
       "  'favorites': 0,\n",
       "  'genres': ['Experimental Pop'],\n",
       "  'interest': 477,\n",
       "  'listens': 365,\n",
       "  'loudness': -13.635185241699219,\n",
       "  'loudness_range': 8.190147399902344,\n",
       "  'tonal_key': 'C',\n",
       "  'tonal_scale': ('major',)},\n",
       " 'fma/fma_full/146/146226.mp3': {'beats_loudness': 0.02368413284420967,\n",
       "  'bpm': 125.89665985107422,\n",
       "  'dissonance': 0.40744367241859436,\n",
       "  'favorites': 1,\n",
       "  'genres': ['Electronic',\n",
       "   'Noise',\n",
       "   'Experimental',\n",
       "   'Electroacoustic',\n",
       "   'Instrumental'],\n",
       "  'interest': 1666,\n",
       "  'listens': 1463,\n",
       "  'loudness': -8.560257911682129,\n",
       "  'loudness_range': 18.66819190979004,\n",
       "  'tonal_key': 'G#',\n",
       "  'tonal_scale': ('minor',)},\n",
       " 'fma/fma_full/147/147008.mp3': {'beats_loudness': 0.05841599404811859,\n",
       "  'bpm': 129.98414611816406,\n",
       "  'dissonance': 0.4763264060020447,\n",
       "  'favorites': 0,\n",
       "  'genres': ['Electronic', 'Downtempo'],\n",
       "  'interest': 824,\n",
       "  'listens': 707,\n",
       "  'loudness': -9.7010498046875,\n",
       "  'loudness_range': 3.5890750885009766,\n",
       "  'tonal_key': 'F',\n",
       "  'tonal_scale': ('minor',)},\n",
       " 'fma/fma_full/152/152600.mp3': {'beats_loudness': 0.022641804069280624,\n",
       "  'bpm': 109.71758270263672,\n",
       "  'dissonance': 0.4311358630657196,\n",
       "  'favorites': 2,\n",
       "  'genres': ['Drone', 'Ambient'],\n",
       "  'interest': 1341,\n",
       "  'listens': 1127,\n",
       "  'loudness': -13.747259140014648,\n",
       "  'loudness_range': 20.88184928894043,\n",
       "  'tonal_key': 'F',\n",
       "  'tonal_scale': ('major',)}}"
      ]
     },
     "execution_count": 16,
     "metadata": {},
     "output_type": "execute_result"
    }
   ],
   "source": [
    "track_features"
   ]
  },
  {
   "cell_type": "markdown",
   "metadata": {},
   "source": [
    "Time to extract features on 10 tracks: 300s\n",
    "\n",
    "Number of tracks in total: 100k\n",
    "\n",
    "Estimated time to extract features on all tracks: (100000/10) x 300s = about 35 days\n",
    "\n",
    "Estimated time if done in parallel (16 threads) = about 52 hours"
   ]
  },
  {
   "cell_type": "code",
   "execution_count": null,
   "metadata": {
    "collapsed": true
   },
   "outputs": [],
   "source": [
    "# required 285378 seconds actually (79 hours)\n",
    "\n",
    "import multiprocessing\n",
    "pool = multiprocessing.Pool(16)\n",
    "start = time.time()\n",
    "track_features_list = pool.map(extract_features, ts)\n",
    "track_features = dict(zip(ts, track_features_list))\n",
    "pool.close()\n",
    "pool.join() # see: https://stackoverflow.com/a/47683305\n",
    "end = time.time()\n",
    "print(end - start)"
   ]
  },
  {
   "cell_type": "code",
   "execution_count": null,
   "metadata": {
    "collapsed": true
   },
   "outputs": [],
   "source": [
    "# save results of all that processing\n",
    "import pickle\n",
    "with open('track_features.pkl', 'wb') as track_features_out:\n",
    "    pickle.dump(track_features, track_features_out)\n",
    "with open('tracks_metadata.pkl', 'wb') as track_metadata_out:\n",
    "    pickle.dump(tracks_metadata, track_metadata_out)"
   ]
  },
  {
   "cell_type": "code",
   "execution_count": null,
   "metadata": {
    "collapsed": true
   },
   "outputs": [],
   "source": []
  }
 ],
 "metadata": {
  "kernelspec": {
   "display_name": "Python 3",
   "language": "python",
   "name": "python3"
  },
  "language_info": {
   "codemirror_mode": {
    "name": "ipython",
    "version": 3
   },
   "file_extension": ".py",
   "mimetype": "text/x-python",
   "name": "python",
   "nbconvert_exporter": "python",
   "pygments_lexer": "ipython3",
   "version": "3.6.1"
  }
 },
 "nbformat": 4,
 "nbformat_minor": 2
}
