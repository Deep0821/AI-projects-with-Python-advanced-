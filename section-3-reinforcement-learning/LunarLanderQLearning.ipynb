{
 "cells": [
  {
   "cell_type": "code",
   "execution_count": 1,
   "metadata": {},
   "outputs": [],
   "source": [
    "# This code is inspired by Matthew Chan's solution to the Cart-Pole problem:\n",
    "# https://gist.github.com/tuzzer/90701191b50c2e7bafca167858fcb234"
   ]
  },
  {
   "cell_type": "code",
   "execution_count": 1,
   "metadata": {},
   "outputs": [],
   "source": [
    "import gym"
   ]
  },
  {
   "cell_type": "code",
   "execution_count": 2,
   "metadata": {},
   "outputs": [
    {
     "name": "stdout",
     "output_type": "stream",
     "text": [
      "\u001b[33mWARN: gym.spaces.Box autodetected dtype as <class 'numpy.float32'>. Please provide explicit dtype.\u001b[0m\n"
     ]
    }
   ],
   "source": [
    "env = gym.make('LunarLander-v2')"
   ]
  },
  {
   "cell_type": "code",
   "execution_count": 3,
   "metadata": {},
   "outputs": [],
   "source": [
    "# Nop, fire left engine, main engine, right engine\n",
    "ACTIONS = env.action_space.n"
   ]
  },
  {
   "cell_type": "code",
   "execution_count": 4,
   "metadata": {},
   "outputs": [
    {
     "data": {
      "text/plain": [
       "4"
      ]
     },
     "execution_count": 4,
     "metadata": {},
     "output_type": "execute_result"
    }
   ],
   "source": [
    "ACTIONS"
   ]
  },
  {
   "cell_type": "code",
   "execution_count": 5,
   "metadata": {},
   "outputs": [
    {
     "data": {
      "text/plain": [
       "array([ 0.0062809 ,  0.93703805,  0.63616509, -0.23837687, -0.00727113,\n",
       "       -0.14410094,  0.        ,  0.        ])"
      ]
     },
     "execution_count": 5,
     "metadata": {},
     "output_type": "execute_result"
    }
   ],
   "source": [
    "env.reset()"
   ]
  },
  {
   "cell_type": "code",
   "execution_count": 6,
   "metadata": {},
   "outputs": [],
   "source": [
    "import random\n",
    "for rep in range(10):\n",
    "    i = 0\n",
    "    while i < 100:\n",
    "        env.step(random.choice([0,1,2,3]))\n",
    "        env.render()\n",
    "        i += 1\n",
    "    env.reset()"
   ]
  },
  {
   "cell_type": "code",
   "execution_count": 8,
   "metadata": {},
   "outputs": [],
   "source": [
    "# Landing pad is always at coordinates (0,0). Coordinates are the first two numbers in state vector.\n",
    "# Reward for moving from the top of the screen to landing pad and zero speed is about 100..140 points.\n",
    "# If lander moves away from landing pad it loses reward back. Episode finishes if the lander crashes or\n",
    "# comes to rest, receiving additional -100 or +100 points. Each leg ground contact is +10. Firing main\n",
    "# engine is -0.3 points each frame. Solved is 200 points."
   ]
  },
  {
   "cell_type": "code",
   "execution_count": 6,
   "metadata": {},
   "outputs": [],
   "source": [
    "import numpy as np\n",
    "import random"
   ]
  },
  {
   "cell_type": "code",
   "execution_count": 7,
   "metadata": {},
   "outputs": [],
   "source": [
    "def discretize_state(state):\n",
    "    dstate = list(state[:5])\n",
    "    dstate[0] = int(0.5*(state[0]+0.7)*10/2.0) # pos x\n",
    "    dstate[1] = int(0.5*(state[1]+0.5)*10/2.0) # pos y\n",
    "    dstate[2] = int(0.5*(state[2]+1.5)*10/3.0) # vel x\n",
    "    dstate[3] = int(0.5*(state[3]+2)*10/3.0) # vel y\n",
    "    dstate[4] = int(0.5*(state[4]+3.14159)*10/(2*3.14159)) # angle\n",
    "    if dstate[0] >= 5: dstate[0] = 4\n",
    "    if dstate[1] >= 5: dstate[1] = 4\n",
    "    if dstate[2] >= 5: dstate[2] = 4\n",
    "    if dstate[3] >= 5: dstate[3] = 4\n",
    "    if dstate[4] >= 5: dstate[4] = 4\n",
    "    if dstate[0] < 0: dstate[0] = 0\n",
    "    if dstate[1] < 0: dstate[1] = 0\n",
    "    if dstate[2] < 0: dstate[2] = 0\n",
    "    if dstate[3] < 0: dstate[3] = 0\n",
    "    if dstate[4] < 0: dstate[4] = 0\n",
    "    return tuple(dstate)"
   ]
  },
  {
   "cell_type": "code",
   "execution_count": 21,
   "metadata": {},
   "outputs": [],
   "source": [
    "def run(num_episodes, alpha, gamma, explore_mult):\n",
    "    max_rewards = []\n",
    "    last_reward = []\n",
    "    qtable = np.subtract(np.zeros((5, 5, 5, 5, 5, ACTIONS)), 100) # start all rewards at -100\n",
    "    explore_rate = 1.0\n",
    "    for episode in range(num_episodes):\n",
    "        s = env.reset()\n",
    "        state = discretize_state(s)\n",
    "        \n",
    "        for step in range(10000):\n",
    "\n",
    "            # select action\n",
    "            if random.random() < explore_rate:\n",
    "                action = random.choice(range(ACTIONS))\n",
    "            else:\n",
    "                action = np.argmax(qtable[state])\n",
    "\n",
    "            (new_s, reward, done, _) = env.step(action)\n",
    "            new_state = discretize_state(new_s)\n",
    "\n",
    "            # update Q\n",
    "            best_future_q = np.amax(qtable[new_state]) # returns best possible reward from next state\n",
    "            prior_val = qtable[state + (action,)]\n",
    "            qtable[state + (action,)] = (1.0-alpha)*prior_val + \\\n",
    "                                        alpha*(reward + gamma * best_future_q)\n",
    "            state = new_state\n",
    "            \n",
    "            if done or step == 9999:\n",
    "                last_reward.append(reward)\n",
    "                break\n",
    "        \n",
    "        if explore_rate > 0.01:\n",
    "            explore_rate *= explore_mult    \n",
    "        max_rewards.append(np.amax(qtable))\n",
    "        \n",
    "    return (max_rewards, last_reward[-50:], qtable) # return rewards from last 50 episodes"
   ]
  },
  {
   "cell_type": "code",
   "execution_count": 16,
   "metadata": {},
   "outputs": [
    {
     "name": "stdout",
     "output_type": "stream",
     "text": [
      "alpha = 0.05, gamma = 0.85, mean last 50 outcomes = -96.00, q max: 8.82, q mean: -3.22\n",
      "alpha = 0.05, gamma = 0.90, mean last 50 outcomes = -100.00, q max: 8.38, q mean: -4.54\n",
      "alpha = 0.05, gamma = 0.95, mean last 50 outcomes = -96.00, q max: 5.08, q mean: -4.01\n",
      "alpha = 0.10, gamma = 0.85, mean last 50 outcomes = -100.00, q max: 14.57, q mean: 0.82\n",
      "alpha = 0.10, gamma = 0.90, mean last 50 outcomes = -100.00, q max: 20.17, q mean: 3.37\n",
      "alpha = 0.10, gamma = 0.95, mean last 50 outcomes = -80.00, q max: 24.98, q mean: -5.19\n",
      "alpha = 0.15, gamma = 0.85, mean last 50 outcomes = -100.00, q max: 16.27, q mean: 4.63\n",
      "alpha = 0.15, gamma = 0.90, mean last 50 outcomes = -100.00, q max: 18.94, q mean: 6.31\n",
      "alpha = 0.15, gamma = 0.95, mean last 50 outcomes = -100.00, q max: 29.58, q mean: 7.56\n"
     ]
    }
   ],
   "source": [
    "num_episodes = 3000\n",
    "for alpha in [0.05, 0.10, 0.15]:\n",
    "    for gamma in [0.85, 0.90, 0.95]:\n",
    "        (max_rewards, last_reward, _) = run(num_episodes=num_episodes, alpha=alpha, gamma=gamma, explore_mult=0.995)\n",
    "        print(\"alpha = %.2f, gamma = %.2f, mean last 50 outcomes = %.2f, q max: %.2f, q mean: %.2f\" % \\\n",
    "              (alpha, gamma, np.mean(last_reward), np.max(max_rewards), np.mean(max_rewards)))"
   ]
  },
  {
   "cell_type": "code",
   "execution_count": 23,
   "metadata": {},
   "outputs": [
    {
     "name": "stdout",
     "output_type": "stream",
     "text": [
      "mean last 50 outcomes = -88.00, q max: 34.06, q mean: 13.83\n"
     ]
    }
   ],
   "source": [
    "(max_rewards, last_reward, qtable) = run(num_episodes=10000, alpha=0.1, gamma=0.95, explore_mult=0.995)\n",
    "print(\"mean last 50 outcomes = %.2f, q max: %.2f, q mean: %.2f\" % \\\n",
    "      (np.mean(last_reward), np.max(max_rewards), np.mean(max_rewards)))\n",
    "np.save('qtable.npy', qtable)"
   ]
  },
  {
   "cell_type": "code",
   "execution_count": 8,
   "metadata": {},
   "outputs": [
    {
     "name": "stdout",
     "output_type": "stream",
     "text": [
      "\u001b[33mWARN: gym.spaces.Box autodetected dtype as <class 'numpy.float32'>. Please provide explicit dtype.\u001b[0m\n"
     ]
    }
   ],
   "source": [
    "# Use best qtable to play the game (no learning anymore)\n",
    "import gym\n",
    "import numpy as np\n",
    "env = gym.make('LunarLander-v2')\n",
    "qtable = np.load('qtable.npy')\n",
    "for i in range(100):\n",
    "    s = env.reset()\n",
    "    state = discretize_state(s)\n",
    "    for step in range(10000):\n",
    "        env.render()\n",
    "\n",
    "        # select action\n",
    "        action = np.argmax(qtable[state])\n",
    "\n",
    "        (new_s, reward, done, _) = env.step(action)\n",
    "        new_state = discretize_state(new_s)\n",
    "\n",
    "        if done or step == 9999:\n",
    "            break\n",
    "\n",
    "        state = new_state"
   ]
  },
  {
   "cell_type": "code",
   "execution_count": null,
   "metadata": {},
   "outputs": [],
   "source": []
  }
 ],
 "metadata": {
  "kernelspec": {
   "display_name": "Python 3",
   "language": "python",
   "name": "python3"
  },
  "language_info": {
   "codemirror_mode": {
    "name": "ipython",
    "version": 3
   },
   "file_extension": ".py",
   "mimetype": "text/x-python",
   "name": "python",
   "nbconvert_exporter": "python",
   "pygments_lexer": "ipython3",
   "version": "3.6.4"
  }
 },
 "nbformat": 4,
 "nbformat_minor": 2
}
